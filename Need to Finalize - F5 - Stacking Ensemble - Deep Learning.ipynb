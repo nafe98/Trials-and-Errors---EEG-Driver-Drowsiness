{
 "cells": [
  {
   "cell_type": "markdown",
   "id": "142756ea-e1e0-452a-84f0-f32c6b1eeb75",
   "metadata": {},
   "source": [
    "https://www.analyticsvidhya.com/blog/2018/06/comprehensive-guide-for-ensemble-models/"
   ]
  },
  {
   "cell_type": "markdown",
   "id": "7cb89d56-986c-4dd3-89d8-810aeb5236a3",
   "metadata": {},
   "source": [
    "# Import Libraries"
   ]
  },
  {
   "cell_type": "code",
   "execution_count": 1,
   "id": "c978b0d0-d1c3-4c4f-8a49-eb67af986d89",
   "metadata": {},
   "outputs": [],
   "source": [
    "import numpy as np\n",
    "from sklearn.metrics import accuracy_score\n",
    "from tensorflow.keras.models import load_model\n",
    "from sklearn.ensemble import RandomForestClassifier\n",
    "from sklearn.model_selection import train_test_split"
   ]
  },
  {
   "cell_type": "markdown",
   "id": "95f37209-2d53-4a75-82a8-4e108380c085",
   "metadata": {},
   "source": [
    "# Load data Training and Testing Data"
   ]
  },
  {
   "cell_type": "code",
   "execution_count": 2,
   "id": "5f17cd88-cfed-4cf7-be20-ce35c107aaf1",
   "metadata": {},
   "outputs": [],
   "source": [
    "X_train = np.load('../../Data/Train Test Dataset - Feature 5/X_train.npy')\n",
    "X_test = np.load('../../Data/Train Test Dataset - Feature 5/X_test.npy')\n",
    "y_train = np.load('../../Data/Train Test Dataset - Feature 5/y_train.npy')\n",
    "y_test = np.load('../../Data/Train Test Dataset - Feature 5/y_test.npy')"
   ]
  },
  {
   "cell_type": "markdown",
   "id": "52315770-890c-458e-a513-9bfbd85b8b84",
   "metadata": {},
   "source": [
    "# Loading individual models"
   ]
  },
  {
   "cell_type": "code",
   "execution_count": 3,
   "id": "229264c0",
   "metadata": {
    "editable": true,
    "slideshow": {
     "slide_type": ""
    },
    "tags": []
   },
   "outputs": [
    {
     "name": "stdout",
     "output_type": "stream",
     "text": [
      "WARNING:tensorflow:Layer lstm will not use cuDNN kernels since it doesn't meet the criteria. It will use a generic GPU kernel as fallback when running on GPU.\n",
      "WARNING:tensorflow:Layer lstm_1 will not use cuDNN kernels since it doesn't meet the criteria. It will use a generic GPU kernel as fallback when running on GPU.\n",
      "WARNING:tensorflow:Layer gru will not use cuDNN kernels since it doesn't meet the criteria. It will use a generic GPU kernel as fallback when running on GPU.\n",
      "WARNING:tensorflow:Layer gru_1 will not use cuDNN kernels since it doesn't meet the criteria. It will use a generic GPU kernel as fallback when running on GPU.\n"
     ]
    }
   ],
   "source": [
    "ann_model = load_model('../../H5 Files/Feature 5/ANN_Architecture_5_Features.h5')\n",
    "lstm_model = load_model('../../H5 Files/Feature 5/LSTM_Architecture_5_Features.h5')\n",
    "gru_model = load_model('../../H5 Files/Feature 5/GRU_Architecture_5_Features.h5')"
   ]
  },
  {
   "cell_type": "markdown",
   "id": "ca78043c-5568-44cc-a67d-09227f4e7e12",
   "metadata": {},
   "source": [
    "### Get predictions from base models on training data"
   ]
  },
  {
   "cell_type": "code",
   "execution_count": 4,
   "id": "d66de95b-6fbc-448c-a9f8-25eef5ccdb72",
   "metadata": {},
   "outputs": [
    {
     "name": "stdout",
     "output_type": "stream",
     "text": [
      "19412/19412 [==============================] - 26s 1ms/step\n",
      "19412/19412 [==============================] - 72s 4ms/step\n",
      "19412/19412 [==============================] - 87s 4ms/step\n"
     ]
    }
   ],
   "source": [
    "# Get predictions from base models on training data\n",
    "ann_pred = ann_model.predict(X_train)\n",
    "lstm_pred = lstm_model.predict(X_train)\n",
    "gru_pred = gru_model.predict(X_train)"
   ]
  },
  {
   "cell_type": "code",
   "execution_count": 5,
   "id": "ebffe1f0-e442-48b1-a9a9-c52d0bf15989",
   "metadata": {},
   "outputs": [],
   "source": [
    "# Stack predictions horizontally for meta-model training data\n",
    "X_train_stacked = np.hstack((ann_pred, lstm_pred, gru_pred))"
   ]
  },
  {
   "cell_type": "code",
   "execution_count": 6,
   "id": "4542236c-3db8-46b5-88d8-b3efde5eaf57",
   "metadata": {},
   "outputs": [
    {
     "data": {
      "text/plain": [
       "(621158, 3)"
      ]
     },
     "execution_count": 6,
     "metadata": {},
     "output_type": "execute_result"
    }
   ],
   "source": [
    "X_train_stacked.shape"
   ]
  },
  {
   "cell_type": "markdown",
   "id": "b68dac7a-bfaa-40ad-a301-befc99ae61fe",
   "metadata": {},
   "source": [
    "### Get predictions from base models on test data"
   ]
  },
  {
   "cell_type": "code",
   "execution_count": 7,
   "id": "f1e1eaee-9745-4580-8356-10bd153f0a80",
   "metadata": {},
   "outputs": [
    {
     "name": "stdout",
     "output_type": "stream",
     "text": [
      "4853/4853 [==============================] - 7s 1ms/step\n",
      "4853/4853 [==============================] - 18s 4ms/step\n",
      "4853/4853 [==============================] - 22s 5ms/step\n"
     ]
    }
   ],
   "source": [
    "# Get predictions from base models on test data\n",
    "ann_pred_test = ann_model.predict(X_test)\n",
    "lstm_pred_test = lstm_model.predict(X_test)\n",
    "gru_pred_test = gru_model.predict(X_test)"
   ]
  },
  {
   "cell_type": "code",
   "execution_count": 8,
   "id": "f8fed6ff-e7f1-4c72-b36b-7ebf9f3352a3",
   "metadata": {},
   "outputs": [],
   "source": [
    "# Stack predictions horizontally for meta-model test data\n",
    "X_test_stacked = np.hstack((ann_pred_test, lstm_pred_test, gru_pred_test))"
   ]
  },
  {
   "cell_type": "code",
   "execution_count": 9,
   "id": "e25da516-0258-43fc-9a56-eb7ce9a7d306",
   "metadata": {},
   "outputs": [
    {
     "data": {
      "text/plain": [
       "(155290, 3)"
      ]
     },
     "execution_count": 9,
     "metadata": {},
     "output_type": "execute_result"
    }
   ],
   "source": [
    "X_test_stacked.shape"
   ]
  },
  {
   "cell_type": "markdown",
   "id": "c2aeb30c-6093-47a9-9316-966acfa01182",
   "metadata": {},
   "source": [
    "# Meta Learning - Artificial Neural Network"
   ]
  },
  {
   "cell_type": "code",
   "execution_count": 10,
   "id": "e788d32a-0c7a-4f61-a55e-65099b4beb2a",
   "metadata": {},
   "outputs": [],
   "source": [
    "import numpy as np\n",
    "from tensorflow.keras.models import load_model, Sequential\n",
    "from tensorflow.keras.layers import Dense, Dropout, BatchNormalization\n",
    "from tensorflow.keras.callbacks import EarlyStopping, ModelCheckpoint\n",
    "from sklearn.metrics import accuracy_score, classification_report, confusion_matrix\n",
    "import seaborn as sns\n",
    "import matplotlib.pyplot as plt\n",
    "from time import time\n",
    "from sklearn.metrics import precision_score, recall_score, f1_score, roc_auc_score\n",
    "from tensorflow.keras.regularizers import l2\n",
    "from sklearn.utils.class_weight import compute_class_weight\n",
    "from tensorflow.keras.optimizers import Adam"
   ]
  },
  {
   "cell_type": "code",
   "execution_count": 11,
   "id": "1328ae49-df4c-4104-8ae6-b83ce5b3cda5",
   "metadata": {},
   "outputs": [],
   "source": [
    "# Improved Meta-Learning Architecture\n",
    "meta_model = Sequential()\n",
    "\n",
    "# First Dense Layer with L2 regularization and Batch Normalization\n",
    "meta_model.add(Dense(256, activation='relu', input_dim=X_train_stacked.shape[1], kernel_regularizer=l2(0.001)))\n",
    "meta_model.add(BatchNormalization())  # Add batch normalization to improve training\n",
    "meta_model.add(Dropout(0.3))  # Dropout for regularization\n",
    "\n",
    "# Add second Dense Layer\n",
    "meta_model.add(Dense(128, activation='relu', kernel_regularizer=l2(0.001)))\n",
    "meta_model.add(BatchNormalization())  # Add batch normalization\n",
    "meta_model.add(Dropout(0.3))  # Dropout to prevent overfitting\n",
    "\n",
    "# Add third Dense Layer\n",
    "meta_model.add(Dense(64, activation='relu', kernel_regularizer=l2(0.001)))\n",
    "meta_model.add(BatchNormalization())\n",
    "meta_model.add(Dropout(0.3))\n",
    "\n",
    "# Output layer (binary classification)\n",
    "meta_model.add(Dense(1, activation='sigmoid'))  # Sigmoid for binary classification\n",
    "\n",
    "# Compile model with Adam optimizer and low learning rate\n",
    "meta_model.compile(optimizer=Adam(learning_rate=0.0001), loss='binary_crossentropy', metrics=['accuracy'])"
   ]
  },
  {
   "cell_type": "code",
   "execution_count": 12,
   "id": "18f043bb-6893-4219-8f62-b20c0fcc2503",
   "metadata": {},
   "outputs": [],
   "source": [
    "# Define EarlyStopping and ModelCheckpoint callbacks\n",
    "early_stopping = EarlyStopping(monitor='val_loss', patience=10, restore_best_weights=True, verbose=1)\n",
    "model_checkpoint = ModelCheckpoint('best_meta_model.h5', monitor='val_loss', save_best_only=True, verbose=1)"
   ]
  },
  {
   "cell_type": "code",
   "execution_count": 13,
   "id": "a79b6a89-83be-4197-9efa-a37a4f7d9604",
   "metadata": {},
   "outputs": [
    {
     "name": "stdout",
     "output_type": "stream",
     "text": [
      "Epoch 1/50\n",
      "605/607 [============================>.] - ETA: 0s - loss: 0.3698 - accuracy: 0.9445\n",
      "Epoch 1: val_loss improved from inf to 0.46455, saving model to best_meta_model.h5\n",
      "607/607 [==============================] - 4s 5ms/step - loss: 0.3697 - accuracy: 0.9445 - val_loss: 0.4645 - val_accuracy: 0.8990\n",
      "Epoch 2/50\n",
      "607/607 [==============================] - ETA: 0s - loss: 0.2808 - accuracy: 0.9577\n",
      "Epoch 2: val_loss improved from 0.46455 to 0.43840, saving model to best_meta_model.h5\n",
      "607/607 [==============================] - 3s 5ms/step - loss: 0.2808 - accuracy: 0.9577 - val_loss: 0.4384 - val_accuracy: 0.8988\n",
      "Epoch 3/50\n",
      "605/607 [============================>.] - ETA: 0s - loss: 0.2404 - accuracy: 0.9579\n",
      "Epoch 3: val_loss improved from 0.43840 to 0.39963, saving model to best_meta_model.h5\n",
      "607/607 [==============================] - 3s 5ms/step - loss: 0.2403 - accuracy: 0.9579 - val_loss: 0.3996 - val_accuracy: 0.8990\n",
      "Epoch 4/50\n",
      "604/607 [============================>.] - ETA: 0s - loss: 0.2102 - accuracy: 0.9585\n",
      "Epoch 4: val_loss improved from 0.39963 to 0.36954, saving model to best_meta_model.h5\n",
      "607/607 [==============================] - 3s 5ms/step - loss: 0.2101 - accuracy: 0.9585 - val_loss: 0.3695 - val_accuracy: 0.8991\n",
      "Epoch 5/50\n",
      "594/607 [============================>.] - ETA: 0s - loss: 0.1862 - accuracy: 0.9587\n",
      "Epoch 5: val_loss improved from 0.36954 to 0.34320, saving model to best_meta_model.h5\n",
      "607/607 [==============================] - 3s 4ms/step - loss: 0.1860 - accuracy: 0.9587 - val_loss: 0.3432 - val_accuracy: 0.8989\n",
      "Epoch 6/50\n",
      "604/607 [============================>.] - ETA: 0s - loss: 0.1663 - accuracy: 0.9592\n",
      "Epoch 6: val_loss improved from 0.34320 to 0.32588, saving model to best_meta_model.h5\n",
      "607/607 [==============================] - 3s 5ms/step - loss: 0.1663 - accuracy: 0.9592 - val_loss: 0.3259 - val_accuracy: 0.8990\n",
      "Epoch 7/50\n",
      "602/607 [============================>.] - ETA: 0s - loss: 0.1505 - accuracy: 0.9595\n",
      "Epoch 7: val_loss improved from 0.32588 to 0.31287, saving model to best_meta_model.h5\n",
      "607/607 [==============================] - 3s 5ms/step - loss: 0.1506 - accuracy: 0.9595 - val_loss: 0.3129 - val_accuracy: 0.8988\n",
      "Epoch 8/50\n",
      "603/607 [============================>.] - ETA: 0s - loss: 0.1388 - accuracy: 0.9598\n",
      "Epoch 8: val_loss improved from 0.31287 to 0.30114, saving model to best_meta_model.h5\n",
      "607/607 [==============================] - 3s 5ms/step - loss: 0.1389 - accuracy: 0.9598 - val_loss: 0.3011 - val_accuracy: 0.8992\n",
      "Epoch 9/50\n",
      "600/607 [============================>.] - ETA: 0s - loss: 0.1296 - accuracy: 0.9598\n",
      "Epoch 9: val_loss improved from 0.30114 to 0.29489, saving model to best_meta_model.h5\n",
      "607/607 [==============================] - 3s 4ms/step - loss: 0.1295 - accuracy: 0.9598 - val_loss: 0.2949 - val_accuracy: 0.8985\n",
      "Epoch 10/50\n",
      "599/607 [============================>.] - ETA: 0s - loss: 0.1230 - accuracy: 0.9598\n",
      "Epoch 10: val_loss improved from 0.29489 to 0.28984, saving model to best_meta_model.h5\n",
      "607/607 [==============================] - 3s 5ms/step - loss: 0.1229 - accuracy: 0.9598 - val_loss: 0.2898 - val_accuracy: 0.8987\n",
      "Epoch 11/50\n",
      "605/607 [============================>.] - ETA: 0s - loss: 0.1178 - accuracy: 0.9600\n",
      "Epoch 11: val_loss improved from 0.28984 to 0.28491, saving model to best_meta_model.h5\n",
      "607/607 [==============================] - 3s 4ms/step - loss: 0.1178 - accuracy: 0.9600 - val_loss: 0.2849 - val_accuracy: 0.8990\n",
      "Epoch 12/50\n",
      "607/607 [==============================] - ETA: 0s - loss: 0.1147 - accuracy: 0.9598\n",
      "Epoch 12: val_loss improved from 0.28491 to 0.28419, saving model to best_meta_model.h5\n",
      "607/607 [==============================] - 3s 5ms/step - loss: 0.1147 - accuracy: 0.9598 - val_loss: 0.2842 - val_accuracy: 0.8995\n",
      "Epoch 13/50\n",
      "606/607 [============================>.] - ETA: 0s - loss: 0.1116 - accuracy: 0.9602\n",
      "Epoch 13: val_loss improved from 0.28419 to 0.27629, saving model to best_meta_model.h5\n",
      "607/607 [==============================] - 3s 5ms/step - loss: 0.1117 - accuracy: 0.9601 - val_loss: 0.2763 - val_accuracy: 0.8989\n",
      "Epoch 14/50\n",
      "604/607 [============================>.] - ETA: 0s - loss: 0.1101 - accuracy: 0.9599\n",
      "Epoch 14: val_loss did not improve from 0.27629\n",
      "607/607 [==============================] - 3s 5ms/step - loss: 0.1100 - accuracy: 0.9599 - val_loss: 0.2780 - val_accuracy: 0.8987\n",
      "Epoch 15/50\n",
      "602/607 [============================>.] - ETA: 0s - loss: 0.1085 - accuracy: 0.9601\n",
      "Epoch 15: val_loss improved from 0.27629 to 0.27340, saving model to best_meta_model.h5\n",
      "607/607 [==============================] - 4s 6ms/step - loss: 0.1085 - accuracy: 0.9601 - val_loss: 0.2734 - val_accuracy: 0.8986\n",
      "Epoch 16/50\n",
      "598/607 [============================>.] - ETA: 0s - loss: 0.1070 - accuracy: 0.9601\n",
      "Epoch 16: val_loss did not improve from 0.27340\n",
      "607/607 [==============================] - 3s 6ms/step - loss: 0.1071 - accuracy: 0.9601 - val_loss: 0.2766 - val_accuracy: 0.8988\n",
      "Epoch 17/50\n",
      "603/607 [============================>.] - ETA: 0s - loss: 0.1062 - accuracy: 0.9602\n",
      "Epoch 17: val_loss did not improve from 0.27340\n",
      "607/607 [==============================] - 3s 5ms/step - loss: 0.1062 - accuracy: 0.9601 - val_loss: 0.2784 - val_accuracy: 0.8993\n",
      "Epoch 18/50\n",
      "606/607 [============================>.] - ETA: 0s - loss: 0.1056 - accuracy: 0.9602\n",
      "Epoch 18: val_loss did not improve from 0.27340\n",
      "607/607 [==============================] - 4s 7ms/step - loss: 0.1056 - accuracy: 0.9602 - val_loss: 0.2816 - val_accuracy: 0.8986\n",
      "Epoch 19/50\n",
      "605/607 [============================>.] - ETA: 0s - loss: 0.1048 - accuracy: 0.9604\n",
      "Epoch 19: val_loss did not improve from 0.27340\n",
      "607/607 [==============================] - 4s 6ms/step - loss: 0.1048 - accuracy: 0.9604 - val_loss: 0.2734 - val_accuracy: 0.8987\n",
      "Epoch 20/50\n",
      "599/607 [============================>.] - ETA: 0s - loss: 0.1044 - accuracy: 0.9602\n",
      "Epoch 20: val_loss did not improve from 0.27340\n",
      "607/607 [==============================] - 3s 5ms/step - loss: 0.1044 - accuracy: 0.9602 - val_loss: 0.2860 - val_accuracy: 0.8985\n",
      "Epoch 21/50\n",
      "605/607 [============================>.] - ETA: 0s - loss: 0.1040 - accuracy: 0.9602\n",
      "Epoch 21: val_loss did not improve from 0.27340\n",
      "607/607 [==============================] - 4s 7ms/step - loss: 0.1040 - accuracy: 0.9602 - val_loss: 0.2826 - val_accuracy: 0.8981\n",
      "Epoch 22/50\n",
      "604/607 [============================>.] - ETA: 0s - loss: 0.1039 - accuracy: 0.9601\n",
      "Epoch 22: val_loss did not improve from 0.27340\n",
      "607/607 [==============================] - 3s 5ms/step - loss: 0.1039 - accuracy: 0.9602 - val_loss: 0.2842 - val_accuracy: 0.8993\n",
      "Epoch 23/50\n",
      "596/607 [============================>.] - ETA: 0s - loss: 0.1032 - accuracy: 0.9604\n",
      "Epoch 23: val_loss improved from 0.27340 to 0.26931, saving model to best_meta_model.h5\n",
      "607/607 [==============================] - 4s 6ms/step - loss: 0.1033 - accuracy: 0.9604 - val_loss: 0.2693 - val_accuracy: 0.8991\n",
      "Epoch 24/50\n",
      "601/607 [============================>.] - ETA: 0s - loss: 0.1030 - accuracy: 0.9602\n",
      "Epoch 24: val_loss did not improve from 0.26931\n",
      "607/607 [==============================] - 7s 12ms/step - loss: 0.1031 - accuracy: 0.9602 - val_loss: 0.2827 - val_accuracy: 0.8989\n",
      "Epoch 25/50\n",
      "605/607 [============================>.] - ETA: 0s - loss: 0.1031 - accuracy: 0.9602\n",
      "Epoch 25: val_loss did not improve from 0.26931\n",
      "607/607 [==============================] - 11s 18ms/step - loss: 0.1031 - accuracy: 0.9602 - val_loss: 0.2761 - val_accuracy: 0.8986\n",
      "Epoch 26/50\n",
      "601/607 [============================>.] - ETA: 0s - loss: 0.1028 - accuracy: 0.9605\n",
      "Epoch 26: val_loss did not improve from 0.26931\n",
      "607/607 [==============================] - 11s 18ms/step - loss: 0.1028 - accuracy: 0.9604 - val_loss: 0.2941 - val_accuracy: 0.8990\n",
      "Epoch 27/50\n",
      "604/607 [============================>.] - ETA: 0s - loss: 0.1027 - accuracy: 0.9603\n",
      "Epoch 27: val_loss did not improve from 0.26931\n",
      "607/607 [==============================] - 11s 18ms/step - loss: 0.1026 - accuracy: 0.9603 - val_loss: 0.2746 - val_accuracy: 0.8982\n",
      "Epoch 28/50\n",
      "605/607 [============================>.] - ETA: 0s - loss: 0.1026 - accuracy: 0.9604\n",
      "Epoch 28: val_loss did not improve from 0.26931\n",
      "607/607 [==============================] - 13s 21ms/step - loss: 0.1026 - accuracy: 0.9604 - val_loss: 0.2860 - val_accuracy: 0.8985\n",
      "Epoch 29/50\n",
      "606/607 [============================>.] - ETA: 0s - loss: 0.1023 - accuracy: 0.9604\n",
      "Epoch 29: val_loss did not improve from 0.26931\n",
      "607/607 [==============================] - 11s 18ms/step - loss: 0.1023 - accuracy: 0.9604 - val_loss: 0.2774 - val_accuracy: 0.8991\n",
      "Epoch 30/50\n",
      "600/607 [============================>.] - ETA: 0s - loss: 0.1024 - accuracy: 0.9602\n",
      "Epoch 30: val_loss did not improve from 0.26931\n",
      "607/607 [==============================] - 11s 18ms/step - loss: 0.1023 - accuracy: 0.9603 - val_loss: 0.2781 - val_accuracy: 0.8980\n",
      "Epoch 31/50\n",
      "606/607 [============================>.] - ETA: 0s - loss: 0.1022 - accuracy: 0.9605\n",
      "Epoch 31: val_loss did not improve from 0.26931\n",
      "607/607 [==============================] - 10s 16ms/step - loss: 0.1022 - accuracy: 0.9605 - val_loss: 0.2798 - val_accuracy: 0.8987\n",
      "Epoch 32/50\n",
      "605/607 [============================>.] - ETA: 0s - loss: 0.1021 - accuracy: 0.9603\n",
      "Epoch 32: val_loss did not improve from 0.26931\n",
      "607/607 [==============================] - 4s 7ms/step - loss: 0.1021 - accuracy: 0.9603 - val_loss: 0.2846 - val_accuracy: 0.8985\n",
      "Epoch 33/50\n",
      "606/607 [============================>.] - ETA: 0s - loss: 0.1018 - accuracy: 0.9605Restoring model weights from the end of the best epoch: 23.\n",
      "\n",
      "Epoch 33: val_loss did not improve from 0.26931\n",
      "607/607 [==============================] - 5s 7ms/step - loss: 0.1018 - accuracy: 0.9605 - val_loss: 0.2868 - val_accuracy: 0.8991\n",
      "Epoch 33: early stopping\n",
      "Training time: 168.46 seconds\n"
     ]
    }
   ],
   "source": [
    "start_time = time()\n",
    "meta_model.fit(X_train_stacked, y_train, epochs=50, batch_size=1024, \n",
    "               validation_data=(X_test_stacked, y_test), \n",
    "               callbacks=[early_stopping, model_checkpoint])\n",
    "end_time = time()\n",
    "\n",
    "training_time = end_time - start_time\n",
    "print(f\"Training time: {training_time:.2f} seconds\")"
   ]
  },
  {
   "cell_type": "code",
   "execution_count": 14,
   "id": "b3364613-ae24-4f5b-a797-30f6b5020907",
   "metadata": {},
   "outputs": [
    {
     "name": "stdout",
     "output_type": "stream",
     "text": [
      "4853/4853 [==============================] - 19s 4ms/step\n",
      "Test time: 21.01 seconds\n"
     ]
    }
   ],
   "source": [
    "# Load the best model from the checkpoint\n",
    "meta_model = load_model('best_meta_model.h5')\n",
    "\n",
    "# Evaluate the Meta-Learning Model\n",
    "start_time_test = time()\n",
    "ensemble_pred_test = (meta_model.predict(X_test_stacked) > 0.5).astype(int)  \n",
    "end_time_test = time()\n",
    "\n",
    "test_time = end_time_test - start_time_test\n",
    "print(f\"Test time: {test_time:.2f} seconds\")"
   ]
  },
  {
   "cell_type": "markdown",
   "id": "1653f90e-0d62-4373-a0d5-e387680bda8a",
   "metadata": {},
   "source": [
    "# Model Evaluation"
   ]
  },
  {
   "cell_type": "markdown",
   "id": "d2322899-8787-46ab-93ba-2ba1c27843f6",
   "metadata": {},
   "source": [
    "## Importing Libraries - Evaluation"
   ]
  },
  {
   "cell_type": "code",
   "execution_count": 15,
   "id": "6c474d32-b926-4699-9ebd-abb4282782d1",
   "metadata": {},
   "outputs": [],
   "source": [
    "import seaborn as sns\n",
    "import matplotlib.pyplot as plt\n",
    "from sklearn.metrics import roc_curve, auc\n",
    "from sklearn.metrics import confusion_matrix\n",
    "from sklearn.metrics import classification_report\n",
    "from sklearn.metrics import accuracy_score, precision_score, recall_score, f1_score, roc_auc_score"
   ]
  },
  {
   "cell_type": "markdown",
   "id": "0ad49c66-faf1-4a7f-a943-05c7d98ce8ea",
   "metadata": {},
   "source": [
    "## Predict using meta-model"
   ]
  },
  {
   "cell_type": "code",
   "execution_count": 16,
   "id": "29425b0b-7e0d-4445-950d-c9d851b8d4b2",
   "metadata": {},
   "outputs": [
    {
     "name": "stdout",
     "output_type": "stream",
     "text": [
      "4853/4853 [==============================] - 20s 4ms/step\n",
      "Test time: 22.38 seconds\n"
     ]
    }
   ],
   "source": [
    "start_time_test = time()\n",
    "ensemble_pred_test = meta_model.predict(X_test_stacked)\n",
    "end_time_test = time()\n",
    "\n",
    "test_time = end_time_test - start_time_test\n",
    "test_time\n",
    "\n",
    "print(f\"Test time: {test_time:.2f} seconds\")"
   ]
  },
  {
   "cell_type": "markdown",
   "id": "fa41a408-d759-471e-9ade-9b80ad38b124",
   "metadata": {},
   "source": [
    "## Classification Report"
   ]
  },
  {
   "cell_type": "code",
   "execution_count": 18,
   "id": "d1d1dd4c",
   "metadata": {},
   "outputs": [
    {
     "name": "stdout",
     "output_type": "stream",
     "text": [
      "              precision    recall  f1-score   support\n",
      "\n",
      "           0       0.89      0.91      0.90     77676\n",
      "           1       0.91      0.89      0.90     77614\n",
      "\n",
      "    accuracy                           0.90    155290\n",
      "   macro avg       0.90      0.90      0.90    155290\n",
      "weighted avg       0.90      0.90      0.90    155290\n",
      "\n"
     ]
    }
   ],
   "source": [
    "ensemble_pred_test = (ensemble_pred_test > 0.5).astype(int)\n",
    "\n",
    "classification_report = classification_report(y_test, ensemble_pred_test)\n",
    "print(classification_report)"
   ]
  },
  {
   "cell_type": "markdown",
   "id": "df6346fa-4cbb-4808-833d-767bc63f62ac",
   "metadata": {},
   "source": [
    "## Confusion Matrix"
   ]
  },
  {
   "cell_type": "code",
   "execution_count": 19,
   "id": "428ac3ac-2a0e-4dbe-8810-ddf9d0bddca1",
   "metadata": {},
   "outputs": [
    {
     "data": {
      "image/png": "[encoded data removed]",
      "text/plain": [
       "<Figure size 800x600 with 2 Axes>"
      ]
     },
     "metadata": {},
     "output_type": "display_data"
    }
   ],
   "source": [
    "class_labels = [\"Alert\", \"Drowsy\"]\n",
    "\n",
    "conf_matrix = confusion_matrix(y_test, ensemble_pred_test)\n",
    "accuracy = accuracy_score(y_test, ensemble_pred_test) * 100\n",
    "\n",
    "# Plot confusion matrix\n",
    "plt.figure(figsize=(8, 6))\n",
    "sns.heatmap(conf_matrix, annot=True, fmt='d', cmap='Blues', cbar=True, xticklabels=class_labels, yticklabels=class_labels, linewidths=.5)\n",
    "\n",
    "plt.title(f'Stacking Ensemble Model - 5 (Accuracy: {accuracy:.2f}%)', fontsize=16)\n",
    "\n",
    "plt.xlabel('Predicted Label', fontsize=14)\n",
    "plt.ylabel('True Label', fontsize=14)\n",
    "\n",
    "plt.xticks(rotation=0, fontsize=12)  \n",
    "plt.yticks(rotation=0, fontsize=12)  \n",
    "\n",
    "plt.show()"
   ]
  },
  {
   "cell_type": "markdown",
   "id": "bcfae578-df06-4f7b-9783-5451645e9fd6",
   "metadata": {},
   "source": [
    "## Evaluation Metrics"
   ]
  },
  {
   "cell_type": "code",
   "execution_count": 20,
   "id": "918bb777-ea7c-4f89-b82d-54af1c1c7060",
   "metadata": {},
   "outputs": [
    {
     "name": "stdout",
     "output_type": "stream",
     "text": [
      "Accuracy: 0.8991177796380965\n",
      "Precision: 0.909470678441119\n",
      "Recall: 0.8863864766665808\n",
      "F1-score: 0.8977802137571937\n",
      "AUC-ROC: 0.899112698655655\n"
     ]
    }
   ],
   "source": [
    "accuracy = accuracy_score(y_test, ensemble_pred_test)\n",
    "precision = precision_score(y_test, ensemble_pred_test)\n",
    "recall = recall_score(y_test, ensemble_pred_test)\n",
    "f1 = f1_score(y_test, ensemble_pred_test)\n",
    "auc_roc = roc_auc_score(y_test, ensemble_pred_test)\n",
    "\n",
    "print(\"Accuracy:\", accuracy)\n",
    "print(\"Precision:\", precision)\n",
    "print(\"Recall:\", recall)\n",
    "print(\"F1-score:\", f1)\n",
    "print(\"AUC-ROC:\", auc_roc)"
   ]
  },
  {
   "cell_type": "markdown",
   "id": "b794c424-73f7-4217-8c71-6365b8085212",
   "metadata": {},
   "source": [
    "## Receiver Operating Characteristic (ROC) Curve"
   ]
  },
  {
   "cell_type": "code",
   "execution_count": 21,
   "id": "9228f10e-21eb-4510-aa91-06b7bbba3aec",
   "metadata": {},
   "outputs": [
    {
     "data": {
      "image/png": "[encoded data removed]",
      "text/plain": [
       "<Figure size 1000x800 with 1 Axes>"
      ]
     },
     "metadata": {},
     "output_type": "display_data"
    }
   ],
   "source": [
    "roc_data = {}\n",
    "\n",
    "fpr, tpr, thresholds = roc_curve(y_test, ensemble_pred_test)\n",
    "roc_auc = auc(fpr, tpr)\n",
    "roc_data['Stacking Ensemble Model - 5'] = {'fpr': fpr, 'tpr': tpr, 'roc_auc': roc_auc}\n",
    "\n",
    "# Plotting ROC Curves \n",
    "plt.figure(figsize=(10, 8))\n",
    "for name, data in roc_data.items():\n",
    "    plt.plot(data['fpr'], data['tpr'], lw=2, label=f'{name} (AUC = {data[\"roc_auc\"]:.2f})')\n",
    "\n",
    "plt.plot([0, 1], [0, 1], linestyle='--', color='gray', lw=2, label='Random Guessing')\n",
    "plt.xlim([0.0, 1.0])\n",
    "plt.ylim([0.0, 1.05])\n",
    "plt.xlabel('False Positive Rate', fontsize=14)\n",
    "plt.ylabel('True Positive Rate', fontsize=14)\n",
    "plt.title('Receiver Operating Characteristic (ROC) Curve', fontsize=16)\n",
    "plt.legend(loc='lower right', fontsize=12)\n",
    "plt.grid(True)\n",
    "plt.show()"
   ]
  },
  {
   "cell_type": "markdown",
   "id": "3213c9b4-56af-4269-98a1-78ec5a52e02c",
   "metadata": {},
   "source": [
    "#### Stacking Ensemble References - \n",
    "\n",
    "https://medium.com/@brijesh_soni/stacking-to-improve-model-performance-a-comprehensive-guide-on-ensemble-learning-in-python-9ed53c93ce28#:~:text=Stacking%20is%20a%20strong%20ensemble,stacked%20ensembles%20or%20stacked%20generalization.\n",
    "\n",
    "https://machinelearningmastery.com/stacking-ensemble-machine-learning-with-python/\n",
    "\n",
    "https://www.javatpoint.com/stacking-in-machine-learning\n",
    "\n",
    "https://www.analyticsvidhya.com/blog/2021/08/ensemble-stacking-for-machine-learning-and-deep-learning/\n",
    "\n",
    "#### Use this Figure - \n",
    "https://medium.com/@brijesh_soni/stacking-to-improve-model-performance-a-comprehensive-guide-on-ensemble-learning-in-python-9ed53c93ce28#:~:text=Stacking%20is%20a%20strong%20ensemble,stacked%20ensembles%20or%20stacked%20generalization."
   ]
  },
  {
   "cell_type": "code",
   "execution_count": null,
   "id": "8911446f-9402-4770-a743-2fc042e72850",
   "metadata": {},
   "outputs": [],
   "source": []
  },
  {
   "cell_type": "code",
   "execution_count": null,
   "id": "980ca2d5-d369-4c3b-a72d-4852c7b8e848",
   "metadata": {},
   "outputs": [],
   "source": []
  },
  {
   "cell_type": "code",
   "execution_count": null,
   "id": "d0965727-53b4-4384-b498-b03cc2c6b629",
   "metadata": {},
   "outputs": [],
   "source": []
  },
  {
   "cell_type": "code",
   "execution_count": null,
   "id": "93d89d9f-56f7-43b8-b0bc-07506b298dde",
   "metadata": {},
   "outputs": [],
   "source": []
  },
  {
   "cell_type": "code",
   "execution_count": null,
   "id": "b0e190cc-3c19-4416-b1db-e685b3f78acc",
   "metadata": {},
   "outputs": [],
   "source": []
  },
  {
   "cell_type": "code",
   "execution_count": null,
   "id": "5a387555-1165-4e94-9a5b-f277d7f442b4",
   "metadata": {},
   "outputs": [],
   "source": []
  },
  {
   "cell_type": "code",
   "execution_count": null,
   "id": "70129dbc-c7de-4cc7-976d-0fa09fc3d76f",
   "metadata": {},
   "outputs": [],
   "source": []
  },
  {
   "cell_type": "code",
   "execution_count": null,
   "id": "7cef0259-2256-4cd1-84ec-572f24d0aeb6",
   "metadata": {},
   "outputs": [],
   "source": []
  },
  {
   "cell_type": "code",
   "execution_count": null,
   "id": "194e1d30-5fde-4059-84e8-6987afe7795d",
   "metadata": {},
   "outputs": [],
   "source": []
  },
  {
   "cell_type": "code",
   "execution_count": null,
   "id": "10378270-5c87-4f9a-ada2-0edefb940883",
   "metadata": {},
   "outputs": [],
   "source": []
  },
  {
   "cell_type": "code",
   "execution_count": null,
   "id": "19c2cfef-8e08-4033-a0f0-1e013f051780",
   "metadata": {},
   "outputs": [],
   "source": []
  },
  {
   "cell_type": "code",
   "execution_count": null,
   "id": "64c0ba04-2bb3-491e-b35a-44d6bb7ed6b0",
   "metadata": {},
   "outputs": [],
   "source": []
  },
  {
   "cell_type": "code",
   "execution_count": null,
   "id": "f995c708-c020-42da-b52d-a90427624ad7",
   "metadata": {},
   "outputs": [],
   "source": []
  },
  {
   "cell_type": "code",
   "execution_count": null,
   "id": "d3acd419-427e-4a38-b241-42eff8778341",
   "metadata": {},
   "outputs": [],
   "source": []
  },
  {
   "cell_type": "code",
   "execution_count": null,
   "id": "896f2949-8372-4949-ae1a-1ae61f62d72e",
   "metadata": {},
   "outputs": [],
   "source": []
  }
 ],
 "metadata": {
  "kernelspec": {
   "display_name": "Python 3 (ipykernel)",
   "language": "python",
   "name": "python3"
  },
  "language_info": {
   "codemirror_mode": {
    "name": "ipython",
    "version": 3
   },
   "file_extension": ".py",
   "mimetype": "text/x-python",
   "name": "python",
   "nbconvert_exporter": "python",
   "pygments_lexer": "ipython3",
   "version": "3.9.19"
  }
 },
 "nbformat": 4,
 "nbformat_minor": 5
}
